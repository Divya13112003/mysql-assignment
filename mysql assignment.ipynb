{
 "cells": [
  {
   "cell_type": "code",
   "execution_count": null,
   "id": "ae0f47e8-060d-45e9-be54-c986141392c9",
   "metadata": {},
   "outputs": [],
   "source": [
    "Q1. What is a database? Differentiate between SQL and NoSQL databases.\n",
    "\n",
    "\n",
    "A database is an organized collection of structured information, or data, typically\n",
    "stored electronically in a computer system. A database is usually controlled by a database\n",
    "management system (DBMS).\n",
    "\n",
    "SQL databases are relational, and NoSQL databases are non-relational. SQL databases use structured\n",
    "query language (SQL) and have a predefined schema. NoSQL databases have dynamic schemas for unstructured data.\n",
    "SQL databases are vertically scalable, while NoSQL databases are horizontally scalable."
   ]
  },
  {
   "cell_type": "code",
   "execution_count": null,
   "id": "6dd8e16b-fb96-42c2-9a6a-ad4b7e3a6df0",
   "metadata": {},
   "outputs": [],
   "source": [
    " Q2. What is DDL? Explain why CREATE, DROP, ALTER, and TRUNCATE are used with an example.\n",
    "    \n",
    "    \n",
    " DDL is data definition language.DDL statements are similar to a computer programming language for\n",
    "defining data structures, especially database schemas.\n",
    "(i) CREATE is a DDL command used to create databases, tables, triggers and other database objects.\n",
    "\n",
    "Syntax to create a new table:\n",
    "\n",
    "CREATE TABLE table_name    \n",
    "(  \n",
    "column_Name1 data_type ( size of the column ) ,    \n",
    "column_Name2 data_type ( size of the column) ,    \n",
    "column_Name3 data_type ( size of the column) ,    \n",
    "...    \n",
    "column_NameN data_type ( size of the column )  \n",
    ") ;   \n",
    "\n",
    "(ii) DROP is a DDL command used to delete/remove the database objects from the SQL database.\n",
    "We can easily remove the entire table, view, or index from the database using this DDL command.\n",
    "Example 2: This example describes how to remove the existing table from the SQL database.\n",
    "\n",
    "Syntax to remove a table:\n",
    "\n",
    "DROP TABLE Table_Name;  \n",
    "(iii) ALTER is a DDL command which changes or modifies the existing structure of the database,\n",
    "and it also changes the schema of database objects.\n",
    "We can also add and drop constraints of the table using the ALTER command.\n",
    "Example 1: This example shows how to add a new field to the existing table.\n",
    "\n",
    "Syntax to add a newfield in the table:\n",
    "\n",
    "ALTER TABLE name_of_table ADD column_name column_definition;  \n",
    "\n",
    "(iv) TRUNCATE is another DDL command which deletes or removes all the records from the table.\n",
    "This command also removes the space allocated for storing the table records.\n",
    "\n",
    "Syntax of TRUNCATE command\n",
    "\n",
    "TRUNCATE TABLE Table_Name;  \n",
    "(v) RENAME is a DDL command which is used to change the name of the database table.\n",
    "\n",
    "Syntax of RENAME command\n",
    "RENAME TABLE Old_Table_Name TO New_Table_Name;  \n",
    "Example\n",
    "RENAME TABLE Student TO Student_Details ;  \n"
   ]
  },
  {
   "cell_type": "code",
   "execution_count": null,
   "id": "92f84c56-76ed-497f-9e81-cdb6d32d720d",
   "metadata": {},
   "outputs": [],
   "source": [
    "Q3. What is DML? Explain INSERT, UPDATE, and DELETE with an example.\n",
    "\n",
    "\n",
    "DML is data manipulation language.\n",
    "SELECT − Retrieve data from the database.\n",
    "INSERT − Insert data into a table.\n",
    "UPDATE − Update existing data within a table.\n",
    "DELETE − Delete records from a database table.\n",
    "\n",
    "# Example of insert command\n",
    "Insert into Employee(Emp_id, Emp_name) values (001, “ bhanu”);\n",
    "Insert into Employee(Emp_id, Emp_name) values (002, “ hari”);\n",
    "Insert into Employee(Emp_id, Emp_name) values (003, “ bob”);\n",
    "\n",
    "# Example of select command\n",
    "SELECT * from Employee;\n",
    "\n",
    "# Example of delete command\n",
    "DELETE from Employee WHERE Emp_id=002;\n",
    "\n",
    "# Example of update command\n",
    "UPDATE Employee SET Emp_name= Ram WHERE Emp_id= 001;\n"
   ]
  },
  {
   "cell_type": "code",
   "execution_count": null,
   "id": "004853b0-22ad-46fd-bb5f-df9be72f41f5",
   "metadata": {},
   "outputs": [],
   "source": [
    "Q4. What is DQL? Explain SELECT with an example.\n",
    "\n",
    "DQL is data query language.Query languages, often known as DQLs or Data Query Languages, are computer\n",
    "languages that are used to make various queries in information systems and databases.\n",
    "SELECT: It is used to retrieve data from the database.\n",
    "# ExampleGet your own SQL Server\n",
    "SELECT CustomerName, City FROM Customers;\n"
   ]
  },
  {
   "cell_type": "code",
   "execution_count": null,
   "id": "9ce66880-afd6-4986-81bf-d5cbfc1f7dee",
   "metadata": {},
   "outputs": [],
   "source": [
    " Q5. Explain Primary Key and Foreign Key.\n",
    "    \n",
    "Primary keys serve as unique identifiers for each row in a database table.\n",
    "Foreign keys link data in one table to the data in another table. A foreign key column in a table\n",
    "points to a column with unique values in another table (often the primary key column) to create a way\n",
    "of cross-referencing the two tables.    "
   ]
  },
  {
   "cell_type": "code",
   "execution_count": 2,
   "id": "c6f080a3-bf4d-4bad-8322-606df78631e3",
   "metadata": {},
   "outputs": [
    {
     "ename": "ModuleNotFoundError",
     "evalue": "No module named 'mysql'",
     "output_type": "error",
     "traceback": [
      "\u001b[0;31m---------------------------------------------------------------------------\u001b[0m",
      "\u001b[0;31mModuleNotFoundError\u001b[0m                       Traceback (most recent call last)",
      "Cell \u001b[0;32mIn[2], line 5\u001b[0m\n\u001b[1;32m      1\u001b[0m \u001b[38;5;66;03m# Python program to connect\u001b[39;00m\n\u001b[1;32m      2\u001b[0m \u001b[38;5;66;03m# to mysql database\u001b[39;00m\n\u001b[0;32m----> 5\u001b[0m \u001b[38;5;28;01mimport\u001b[39;00m \u001b[38;5;21;01mmysql\u001b[39;00m\u001b[38;5;21;01m.\u001b[39;00m\u001b[38;5;21;01mconnector\u001b[39;00m\n\u001b[1;32m      8\u001b[0m \u001b[38;5;66;03m# Connecting from the server\u001b[39;00m\n\u001b[1;32m      9\u001b[0m conn \u001b[38;5;241m=\u001b[39m mysql\u001b[38;5;241m.\u001b[39mconnector\u001b[38;5;241m.\u001b[39mconnect(user \u001b[38;5;241m=\u001b[39m \u001b[38;5;124m'\u001b[39m\u001b[38;5;124musername\u001b[39m\u001b[38;5;124m'\u001b[39m,\n\u001b[1;32m     10\u001b[0m \t\t\t\t\t\t\thost \u001b[38;5;241m=\u001b[39m \u001b[38;5;124m'\u001b[39m\u001b[38;5;124mlocalhost\u001b[39m\u001b[38;5;124m'\u001b[39m,\n\u001b[1;32m     11\u001b[0m \t\t\t\t\t\t\tdatabase \u001b[38;5;241m=\u001b[39m \u001b[38;5;124m'\u001b[39m\u001b[38;5;124mdatabase_name\u001b[39m\u001b[38;5;124m'\u001b[39m)\n",
      "\u001b[0;31mModuleNotFoundError\u001b[0m: No module named 'mysql'"
     ]
    }
   ],
   "source": [
    "Q6. Write a python code to connect MySQL to python. Explain the cursor() and execute() method.\n",
    "\n",
    "\n",
    "# Python program to connect\n",
    "# to mysql database\n",
    "\n",
    "import mysql.connector\n",
    "\n",
    "\n",
    "# Connecting from the server\n",
    "conn = mysql.connector.connect(user = 'username',\n",
    "\t\t\t\t\t\t\thost = 'localhost',\n",
    "\t\t\t\t\t\t\tdatabase = 'database_name')\n",
    "\n",
    "print(conn)\n",
    "\n",
    "# Disconnecting from the server\n",
    "conn.close()\n"
   ]
  },
  {
   "cell_type": "code",
   "execution_count": null,
   "id": "63063ea5-1fce-4b12-9ec2-92b7211b407e",
   "metadata": {},
   "outputs": [],
   "source": [
    "Q7. Give the order of execution of SQL clauses in an SQL query.\n",
    "    \n",
    "\n",
    "But SQL processes queries in the order: FROM, JOIN, WHERE, GROUP BY, HAVING, SELECT, DISTINCT, ORDER BY,\n",
    "and finally, LIMIT/OFFSET."
   ]
  }
 ],
 "metadata": {
  "kernelspec": {
   "display_name": "Python 3 (ipykernel)",
   "language": "python",
   "name": "python3"
  },
  "language_info": {
   "codemirror_mode": {
    "name": "ipython",
    "version": 3
   },
   "file_extension": ".py",
   "mimetype": "text/x-python",
   "name": "python",
   "nbconvert_exporter": "python",
   "pygments_lexer": "ipython3",
   "version": "3.10.8"
  }
 },
 "nbformat": 4,
 "nbformat_minor": 5
}
